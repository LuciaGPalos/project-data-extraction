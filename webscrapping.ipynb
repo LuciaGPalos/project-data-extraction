{
 "cells": [
  {
   "cell_type": "code",
   "execution_count": 224,
   "id": "7a65bb85-4064-4b76-8de8-175a40bcaf4c",
   "metadata": {},
   "outputs": [],
   "source": [
    "from bs4 import BeautifulSoup\n",
    "import requests\n",
    "import pandas as pd"
   ]
  },
  {
   "cell_type": "code",
   "execution_count": 188,
   "id": "ab5e8826-aa27-43df-9335-2e500a3ed303",
   "metadata": {},
   "outputs": [],
   "source": [
    "amazonfile= open('amazon_webscrapping.csv','a')"
   ]
  },
  {
   "cell_type": "code",
   "execution_count": 202,
   "id": "e6890df5-f08c-4ad0-8497-a3c22070d4dd",
   "metadata": {},
   "outputs": [],
   "source": [
    "colnames = ['ITEM', 'PRICE','RATING'] "
   ]
  },
  {
   "cell_type": "code",
   "execution_count": 220,
   "id": "f8fabf91-9e2d-4b90-882f-444309b1917a",
   "metadata": {},
   "outputs": [],
   "source": [
    "data = pd.read_csv('amazon_webscrapping.csv', names=colnames, header=None)"
   ]
  },
  {
   "cell_type": "markdown",
   "id": "47361423-98c2-427c-9a43-500741287da1",
   "metadata": {},
   "source": [
    "# Authentication"
   ]
  },
  {
   "cell_type": "markdown",
   "id": "4d7caf16-671c-4e47-bd1d-19a371a854f0",
   "metadata": {},
   "source": [
    "Check price of one article (iphone 14)"
   ]
  },
  {
   "cell_type": "code",
   "execution_count": 148,
   "id": "d3104c26-edcd-4ed0-b9ff-7f120ae63fd6",
   "metadata": {},
   "outputs": [],
   "source": [
    "URL = 'https://www.amazon.com.mx/AmazonBasics-Cama-para-perro-redonda/dp/B07233P1W2?ref_=ast_sto_dp&th=1&psc=1'"
   ]
  },
  {
   "cell_type": "code",
   "execution_count": null,
   "id": "491fdf5c-cf0f-45de-aaf4-1a975a64438c",
   "metadata": {},
   "outputs": [],
   "source": [
    "##crear logicas de for i in URL que el programa agarre cada url y vaya construyendo la tabla en vez de copiar y pegar el url de manera manual. \n",
    "#checar como hacer esto!"
   ]
  },
  {
   "cell_type": "code",
   "execution_count": 149,
   "id": "366f147d-e335-463f-9568-1c89ec9a84d2",
   "metadata": {},
   "outputs": [],
   "source": [
    "headers = {'User-Agent': 'Mozilla/5.0 (Macintosh; Intel Mac OS X 10_15_5) AppleWebKit/537.36 (KHTML, like Gecko) Chrome/107.0.0.0 Safari/537.36'\n",
    "}"
   ]
  },
  {
   "cell_type": "code",
   "execution_count": 150,
   "id": "0ef22c3e-5a14-4854-9daf-32be616e2a7c",
   "metadata": {},
   "outputs": [],
   "source": [
    "response = requests.get(URL, headers=headers)"
   ]
  },
  {
   "cell_type": "code",
   "execution_count": 151,
   "id": "123c610f-0061-424c-9e0a-9f8eba488781",
   "metadata": {},
   "outputs": [
    {
     "name": "stdout",
     "output_type": "stream",
     "text": [
      "200\n"
     ]
    }
   ],
   "source": [
    "print(response.status_code)"
   ]
  },
  {
   "cell_type": "code",
   "execution_count": 192,
   "id": "a8e10dae-f975-42d3-b3c8-c91a05dda162",
   "metadata": {},
   "outputs": [],
   "source": [
    "content = BeautifulSoup(response.content,'lxml')"
   ]
  },
  {
   "cell_type": "code",
   "execution_count": 193,
   "id": "11d1dbba-c7f9-4726-875a-fdec007ffb42",
   "metadata": {},
   "outputs": [
    {
     "data": {
      "text/plain": [
       "bs4.BeautifulSoup"
      ]
     },
     "execution_count": 193,
     "metadata": {},
     "output_type": "execute_result"
    }
   ],
   "source": [
    "type(content)"
   ]
  },
  {
   "cell_type": "markdown",
   "id": "0558775c-04f6-4372-9fa3-53b55b79ef5e",
   "metadata": {},
   "source": [
    "# Get data"
   ]
  },
  {
   "cell_type": "code",
   "execution_count": 223,
   "id": "2eb6ae12-4ec0-42e0-96ca-c7e8e0a25436",
   "metadata": {},
   "outputs": [],
   "source": [
    "#product title\n",
    "try:\n",
    "    title = content.find_all('span',{'id': 'productTitle'}).get_text\n",
    "    title = title.strip()[1:].replace(',', '')\n",
    "except AttributeError:\n",
    "    title = ''"
   ]
  },
  {
   "cell_type": "code",
   "execution_count": 215,
   "id": "5ade6aeb-360b-4ff7-9742-d907d5ecf1be",
   "metadata": {},
   "outputs": [
    {
     "data": {
      "text/plain": [
       "1"
      ]
     },
     "execution_count": 215,
     "metadata": {},
     "output_type": "execute_result"
    }
   ],
   "source": [
    "#saving the title\n",
    "amazonfile.write(f'{title}\\n')"
   ]
  },
  {
   "cell_type": "code",
   "execution_count": 216,
   "id": "268a5fa1-47d4-45c0-bfef-fb94b90e6474",
   "metadata": {},
   "outputs": [],
   "source": [
    "#product price\n",
    "try:\n",
    "        price = content.find_all('span',{'class': 'a-price-whole'})\n",
    "        price = price.strip().replace(',', '')\n",
    "except AttributeError:\n",
    "        price = ''"
   ]
  },
  {
   "cell_type": "code",
   "execution_count": 217,
   "id": "d85ce0bd-3287-4744-a42e-108fd5a6d7ab",
   "metadata": {},
   "outputs": [
    {
     "data": {
      "text/plain": [
       "1"
      ]
     },
     "execution_count": 217,
     "metadata": {},
     "output_type": "execute_result"
    }
   ],
   "source": [
    "#saving the price\n",
    "amazonfile.write(f'{price}\\n')"
   ]
  },
  {
   "cell_type": "code",
   "execution_count": 218,
   "id": "64c6b2ab-fee7-450d-8aad-84badb67509c",
   "metadata": {},
   "outputs": [],
   "source": [
    "#product rating\n",
    "try:\n",
    "    rating = content.find('i', {'class': 'a-icon a-icon-star a-star-4-5'}).text\n",
    "    rating = rating.strip().replace(',', '')\n",
    "except AttributeError:\n",
    "    try:\n",
    "        rating = content.find(\"span\", {'class': 'a-icon-alt'}).string.strip().replace(',', '')\n",
    "    except:\n",
    "        rating = ''"
   ]
  },
  {
   "cell_type": "code",
   "execution_count": 219,
   "id": "1e5979e2-8214-49e1-92a9-0ced3c6388f9",
   "metadata": {},
   "outputs": [
    {
     "data": {
      "text/plain": [
       "1"
      ]
     },
     "execution_count": 219,
     "metadata": {},
     "output_type": "execute_result"
    }
   ],
   "source": [
    "#saving the rating\n",
    "amazonfile.write(f'{rating}\\n')"
   ]
  },
  {
   "cell_type": "code",
   "execution_count": 182,
   "id": "1cd392f5-ad28-4075-8af8-f039569138cc",
   "metadata": {},
   "outputs": [],
   "source": [
    "amazonfile.close()"
   ]
  }
 ],
 "metadata": {
  "kernelspec": {
   "display_name": "Python 3 (ipykernel)",
   "language": "python",
   "name": "python3"
  },
  "language_info": {
   "codemirror_mode": {
    "name": "ipython",
    "version": 3
   },
   "file_extension": ".py",
   "mimetype": "text/x-python",
   "name": "python",
   "nbconvert_exporter": "python",
   "pygments_lexer": "ipython3",
   "version": "3.9.12"
  }
 },
 "nbformat": 4,
 "nbformat_minor": 5
}
